{
  "nbformat": 4,
  "nbformat_minor": 0,
  "metadata": {
    "colab": {
      "provenance": [],
      "include_colab_link": true
    },
    "kernelspec": {
      "name": "python3",
      "display_name": "Python 3"
    },
    "language_info": {
      "name": "python"
    }
  },
  "cells": [
    {
      "cell_type": "markdown",
      "metadata": {
        "id": "view-in-github",
        "colab_type": "text"
      },
      "source": [
        "<a href=\"https://colab.research.google.com/github/ManojKrJena/AbhishekChauhan9036/blob/main/16seppythonbasics.ipynb\" target=\"_parent\"><img src=\"https://colab.research.google.com/assets/colab-badge.svg\" alt=\"Open In Colab\"/></a>"
      ]
    },
    {
      "cell_type": "code",
      "execution_count": null,
      "metadata": {
        "colab": {
          "base_uri": "https://localhost:8080/"
        },
        "id": "X4TfQJkwTNPQ",
        "outputId": "b991ee0b-86e7-4c9a-ac46-ed62e7b2f668"
      },
      "outputs": [
        {
          "output_type": "stream",
          "name": "stdout",
          "text": [
            "hi\n"
          ]
        }
      ],
      "source": [
        "print('hi')"
      ]
    },
    {
      "cell_type": "markdown",
      "source": [
        "# Programming Languages\n",
        "\n",
        "-> A medium to communicate with the machine.\n",
        "-> We have different types of programming languages:(C,C++,Java,C#,Javascript,Python)"
      ],
      "metadata": {
        "id": "yTF89s6rTk3d"
      }
    },
    {
      "cell_type": "markdown",
      "source": [
        "# What is python?\n",
        "\n",
        "-> Python is a programming language that tells the computer of what to do.\n",
        "\n",
        "-> High level language(similar to english).\n",
        "\n",
        "-> Interpreted: It will execute our code line by line.\n",
        "\n",
        "\n",
        "# Where can we use python?\n",
        "\n",
        "-> Data scientists/Data Analyst: scipy, sklearn, numpy, pandas.\n",
        "\n",
        "-> Data visualisation: Matplotlib, seaborn, pyplot.\n",
        "\n",
        "-> Machine learning/AI: scikit learn, Tenserflow.\n",
        "\n",
        "\n"
      ],
      "metadata": {
        "id": "4sugcF2FUFmy"
      }
    },
    {
      "cell_type": "code",
      "source": [
        "# Case sensitive- Lower cases and upper cases are different. It treats uppercase and lowercase as different things.\n",
        "\n",
        "\n",
        "print('Hello')"
      ],
      "metadata": {
        "colab": {
          "base_uri": "https://localhost:8080/"
        },
        "id": "3G7KPw5zTQVL",
        "outputId": "b86af000-0542-4db9-cb05-802490c5d9d9"
      },
      "execution_count": null,
      "outputs": [
        {
          "output_type": "stream",
          "name": "stdout",
          "text": [
            "Hello\n"
          ]
        }
      ]
    },
    {
      "cell_type": "code",
      "source": [
        "print('hello')"
      ],
      "metadata": {
        "colab": {
          "base_uri": "https://localhost:8080/"
        },
        "id": "ipSu0GO0Z9bG",
        "outputId": "1e8ca632-92f6-4312-c838-7dc1b290b196"
      },
      "execution_count": null,
      "outputs": [
        {
          "output_type": "stream",
          "name": "stdout",
          "text": [
            "hello\n"
          ]
        }
      ]
    },
    {
      "cell_type": "code",
      "source": [
        "Print('hello')"
      ],
      "metadata": {
        "colab": {
          "base_uri": "https://localhost:8080/",
          "height": 146
        },
        "id": "Cq-7mU8-Z_wq",
        "outputId": "862ffe8c-9c9b-4cc9-f3ad-3b62474a594c"
      },
      "execution_count": null,
      "outputs": [
        {
          "output_type": "error",
          "ename": "NameError",
          "evalue": "name 'Print' is not defined",
          "traceback": [
            "\u001b[0;31m---------------------------------------------------------------------------\u001b[0m",
            "\u001b[0;31mNameError\u001b[0m                                 Traceback (most recent call last)",
            "\u001b[0;32m/tmp/ipython-input-2674531823.py\u001b[0m in \u001b[0;36m<cell line: 0>\u001b[0;34m()\u001b[0m\n\u001b[0;32m----> 1\u001b[0;31m \u001b[0mPrint\u001b[0m\u001b[0;34m(\u001b[0m\u001b[0;34m'hello'\u001b[0m\u001b[0;34m)\u001b[0m\u001b[0;34m\u001b[0m\u001b[0;34m\u001b[0m\u001b[0m\n\u001b[0m",
            "\u001b[0;31mNameError\u001b[0m: name 'Print' is not defined"
          ]
        }
      ]
    },
    {
      "cell_type": "markdown",
      "source": [
        "# Comments\n",
        "\n",
        "-> If we don't want to write some parts of the code we put that in comments.\n",
        "\n",
        "1. Single line comment-> #\n",
        "\n",
        "2. Multiline comment-> \"\"\" \"\"\""
      ],
      "metadata": {
        "id": "M0kQkec9aVG3"
      }
    },
    {
      "cell_type": "code",
      "source": [
        "# Hello guys"
      ],
      "metadata": {
        "id": "PMjYDeCbaB_m"
      },
      "execution_count": null,
      "outputs": []
    },
    {
      "cell_type": "code",
      "source": [
        "\"\"\"\n",
        "Hello everyone\n",
        "we are gonna learn\n",
        "about python today\n",
        "\"\"\"\n",
        "\n",
        "print('hi')"
      ],
      "metadata": {
        "colab": {
          "base_uri": "https://localhost:8080/"
        },
        "id": "Xi41AA5Eavg_",
        "outputId": "915b151d-f60a-4364-d5cf-ae4d8384ac8f"
      },
      "execution_count": null,
      "outputs": [
        {
          "output_type": "stream",
          "name": "stdout",
          "text": [
            "hi\n"
          ]
        }
      ]
    },
    {
      "cell_type": "markdown",
      "source": [
        "# Variables\n",
        "\n",
        "1. Imagine variable as a box where you can out anything.\n",
        "2. my_box is the name of my box and i am storing toy-car in my box."
      ],
      "metadata": {
        "id": "OjfEoiQzbG-J"
      }
    },
    {
      "cell_type": "code",
      "source": [
        "my_box = 'Toy car'"
      ],
      "metadata": {
        "id": "qXlZKgGBa4D6"
      },
      "execution_count": null,
      "outputs": []
    },
    {
      "cell_type": "code",
      "source": [
        "my_box"
      ],
      "metadata": {
        "colab": {
          "base_uri": "https://localhost:8080/",
          "height": 36
        },
        "id": "fqFwBRjyb6YR",
        "outputId": "b849e812-fdc3-456f-89e5-97503ec36ebc"
      },
      "execution_count": null,
      "outputs": [
        {
          "output_type": "execute_result",
          "data": {
            "text/plain": [
              "'Toy car'"
            ],
            "application/vnd.google.colaboratory.intrinsic+json": {
              "type": "string"
            }
          },
          "metadata": {},
          "execution_count": 10
        }
      ]
    },
    {
      "cell_type": "markdown",
      "source": [
        "# Rule for creating a variable\n",
        "\n",
        "1. Must start with a letter or (underscore) (a,b,c,abc,devansh,manoj, _a,_adevansh.\n",
        "2. Cannot be started with a number(8abc, 9q, 2b).\n",
        "3. Cannot have keywords as variable name (print=5)\n",
        "4. We can't have space in between the variable name while declaring(a b).\n",
        "5. We cannot use any special characte other than _."
      ],
      "metadata": {
        "id": "0BNsbgCrcLB2"
      }
    },
    {
      "cell_type": "code",
      "source": [
        "my_name = 'devansh'"
      ],
      "metadata": {
        "id": "JJQkSTuUb7JY"
      },
      "execution_count": null,
      "outputs": []
    },
    {
      "cell_type": "code",
      "source": [
        "_myname = 'devansh'"
      ],
      "metadata": {
        "id": "7hb_PLA9dIYU"
      },
      "execution_count": null,
      "outputs": []
    },
    {
      "cell_type": "code",
      "source": [
        "1myname = 'devansh'"
      ],
      "metadata": {
        "colab": {
          "base_uri": "https://localhost:8080/",
          "height": 109
        },
        "id": "__95J1ohdLuY",
        "outputId": "7f8cf15b-1029-4d28-a8fd-94949f7fd671"
      },
      "execution_count": null,
      "outputs": [
        {
          "output_type": "error",
          "ename": "SyntaxError",
          "evalue": "invalid decimal literal (ipython-input-1737577999.py, line 1)",
          "traceback": [
            "\u001b[0;36m  File \u001b[0;32m\"/tmp/ipython-input-1737577999.py\"\u001b[0;36m, line \u001b[0;32m1\u001b[0m\n\u001b[0;31m    1myname = 'devansh'\u001b[0m\n\u001b[0m    ^\u001b[0m\n\u001b[0;31mSyntaxError\u001b[0m\u001b[0;31m:\u001b[0m invalid decimal literal\n"
          ]
        }
      ]
    },
    {
      "cell_type": "code",
      "source": [
        "my_name_1 = 'devansh'"
      ],
      "metadata": {
        "id": "T9f3EA4-dQMq"
      },
      "execution_count": null,
      "outputs": []
    },
    {
      "cell_type": "code",
      "source": [
        "$my_name = 'devansh'"
      ],
      "metadata": {
        "colab": {
          "base_uri": "https://localhost:8080/",
          "height": 109
        },
        "id": "Z7DpbEUMdWMV",
        "outputId": "a06b9186-e4ef-457a-e22d-ae97f65ddbd1"
      },
      "execution_count": null,
      "outputs": [
        {
          "output_type": "error",
          "ename": "SyntaxError",
          "evalue": "invalid syntax (ipython-input-2625731120.py, line 1)",
          "traceback": [
            "\u001b[0;36m  File \u001b[0;32m\"/tmp/ipython-input-2625731120.py\"\u001b[0;36m, line \u001b[0;32m1\u001b[0m\n\u001b[0;31m    $my_name = 'devansh'\u001b[0m\n\u001b[0m    ^\u001b[0m\n\u001b[0;31mSyntaxError\u001b[0m\u001b[0;31m:\u001b[0m invalid syntax\n"
          ]
        }
      ]
    },
    {
      "cell_type": "code",
      "source": [
        "my_age = 28\n",
        "print(my_age)"
      ],
      "metadata": {
        "colab": {
          "base_uri": "https://localhost:8080/"
        },
        "id": "ROwd03ZJdY_t",
        "outputId": "38f815f0-4547-40dc-c33b-04e6e3f81e1d"
      },
      "execution_count": null,
      "outputs": [
        {
          "output_type": "stream",
          "name": "stdout",
          "text": [
            "28\n"
          ]
        }
      ]
    },
    {
      "cell_type": "code",
      "source": [
        "my_fav_fruit = 'mango'\n",
        "print(my_fav_fruit)"
      ],
      "metadata": {
        "colab": {
          "base_uri": "https://localhost:8080/"
        },
        "id": "hID-E8kRd8pt",
        "outputId": "fe647d25-23b0-45c2-d4b8-6b2c9577f193"
      },
      "execution_count": null,
      "outputs": [
        {
          "output_type": "stream",
          "name": "stdout",
          "text": [
            "mango\n"
          ]
        }
      ]
    },
    {
      "cell_type": "markdown",
      "source": [
        "# Python Data Types\n",
        "\n",
        "1. Integer: Whole number like 1,100,5,300,-4. Any number without the decimal point is called an integer.\n",
        "\n",
        "2. Float: Number with decimal points. Eg: 9.8, 100.5, 4.4, 3.14. Any number with the decimal point is called as float.\n",
        "\n",
        "3. String: letters, words, sentence. String should be surrounded by \"\" or ''.\n",
        "\n",
        "4. Boolean: True or False.\n",
        "\n"
      ],
      "metadata": {
        "id": "N-BSNAoreOy8"
      }
    },
    {
      "cell_type": "code",
      "source": [
        "# Integer\n",
        "\n",
        "num = 555\n",
        "print(type(num))"
      ],
      "metadata": {
        "colab": {
          "base_uri": "https://localhost:8080/"
        },
        "id": "DHeOaO3VeDJz",
        "outputId": "fbadf5fd-ef22-4d37-9f99-eb5b50a5d03a"
      },
      "execution_count": null,
      "outputs": [
        {
          "output_type": "stream",
          "name": "stdout",
          "text": [
            "<class 'int'>\n"
          ]
        }
      ]
    },
    {
      "cell_type": "code",
      "source": [
        "# Float\n",
        "\n",
        "float_num = 60.54\n",
        "print(type(float_num))"
      ],
      "metadata": {
        "colab": {
          "base_uri": "https://localhost:8080/"
        },
        "id": "1SB5nOQZgf_Y",
        "outputId": "3243f01f-690a-4072-cd31-fd63e7113e32"
      },
      "execution_count": null,
      "outputs": [
        {
          "output_type": "stream",
          "name": "stdout",
          "text": [
            "<class 'float'>\n"
          ]
        }
      ]
    },
    {
      "cell_type": "code",
      "source": [
        "# Boolean\n",
        "\n",
        "flag = True\n",
        "print(type(flag))"
      ],
      "metadata": {
        "colab": {
          "base_uri": "https://localhost:8080/"
        },
        "id": "TETNGduOgs4L",
        "outputId": "33e03164-c288-464e-e561-34a6f681af41"
      },
      "execution_count": null,
      "outputs": [
        {
          "output_type": "stream",
          "name": "stdout",
          "text": [
            "<class 'bool'>\n"
          ]
        }
      ]
    },
    {
      "cell_type": "code",
      "source": [
        "# String\n",
        "\n",
        "name = 'devansh'\n",
        "print(type(name))"
      ],
      "metadata": {
        "colab": {
          "base_uri": "https://localhost:8080/"
        },
        "id": "dpgU5-gpg2-N",
        "outputId": "48f9b121-00c6-4e1e-a209-d73a3dfdd13f"
      },
      "execution_count": null,
      "outputs": [
        {
          "output_type": "stream",
          "name": "stdout",
          "text": [
            "<class 'str'>\n"
          ]
        }
      ]
    },
    {
      "cell_type": "markdown",
      "source": [
        "# Operators: These are the special symbols that are used to perform the operation.\n",
        "\n",
        "1. Arithmetic operator: used for math\n",
        "\n",
        "-> Addition: 2+2=4\n",
        "\n",
        "-> Subtraction: 5-3=2\n",
        "\n",
        "-> Multiplication: 2*3=6\n",
        "\n",
        "-> Division: 5/2=2.5\n",
        "\n",
        "-> Floor division: 5//2=2(removal of the decimal)\n",
        "\n",
        "-> Modulus(remainder): 5%2=1\n",
        "\n",
        "-> Exponent(power): 2**2=4"
      ],
      "metadata": {
        "id": "XCJ7JRfxUuIj"
      }
    },
    {
      "cell_type": "markdown",
      "source": [
        "2. Comparison operator(True or False)\n",
        "\n",
        "-> == -> Equal -> 5==5 -> True\n",
        "\n",
        "-> != -> Not equal -> 5!=3 -> True\n",
        "\n",
        "-> Greater than -> 5>3 -> True\n",
        "\n",
        "-> Less than -> 5<3 -> False\n",
        "\n",
        "-> Greater than or equal -> 5>=5 -> True\n",
        "\n",
        "-> Less than or equal -> 5<=3-> False"
      ],
      "metadata": {
        "id": "M_7qBNJQVwoD"
      }
    },
    {
      "cell_type": "markdown",
      "source": [
        "3. Logical operator:\n",
        "\n",
        "-> and -> True if both the conditions are true. 5>3 and 10>3 -> True\n",
        "\n",
        "-> or -> True if atleast one condition is true. 5>10 or 3<5 -> True\n",
        "\n",
        "-> not -> Reverse the resul. not(5>3) -> False"
      ],
      "metadata": {
        "id": "3f5qWW1-XAwS"
      }
    },
    {
      "cell_type": "markdown",
      "source": [
        "4. Assignment operator:\n",
        "\n",
        "-> = -> Assign -> x = 5\n",
        "\n",
        "-> += -> Add and assign -> x+=3 ( same as x=x+3)\n",
        "\n",
        "-> -= -> Subtract and assign -> x-=2 (same as x=x-2)\n",
        "\n",
        "-> *= -> Multiply and assign -> x*=2 (same as x=x*2)\n",
        "\n",
        "-> /= -> Divide and assign -> x/=2 (same as x=x/2)\n",
        "\n",
        "-> //= Floor division -> x//=2 (same as x=x//2)\n",
        "\n",
        "-> %= -> Modulus and assign\n",
        "\n",
        "-> **= Exponent and assign"
      ],
      "metadata": {
        "id": "XWa9WAqkYhMF"
      }
    },
    {
      "cell_type": "markdown",
      "source": [],
      "metadata": {
        "id": "qbzbc3epaC5B"
      }
    },
    {
      "cell_type": "code",
      "source": [
        "# Arithmetic operator\n",
        "\n",
        "a = 10\n",
        "b = 3\n",
        "print(a+b)\n",
        "print(a-b)\n",
        "print(a*b)\n",
        "print(a/b)\n",
        "print(a//b)\n",
        "print(a%b)\n",
        "print(a**b)"
      ],
      "metadata": {
        "id": "rpXTCZBDg83E",
        "colab": {
          "base_uri": "https://localhost:8080/"
        },
        "outputId": "a48cd8e1-a6db-4ac7-820b-3e47f84069bd"
      },
      "execution_count": null,
      "outputs": [
        {
          "output_type": "stream",
          "name": "stdout",
          "text": [
            "13\n",
            "7\n",
            "30\n",
            "3.3333333333333335\n",
            "3\n",
            "1\n",
            "1000\n"
          ]
        }
      ]
    },
    {
      "cell_type": "code",
      "source": [
        "# Assignment operator\n",
        "\n",
        "x = 10"
      ],
      "metadata": {
        "id": "qis2MP6NcSHb"
      },
      "execution_count": null,
      "outputs": []
    },
    {
      "cell_type": "code",
      "source": [
        "x+=5"
      ],
      "metadata": {
        "id": "TawDKup1cs_D"
      },
      "execution_count": null,
      "outputs": []
    },
    {
      "cell_type": "code",
      "source": [
        "x"
      ],
      "metadata": {
        "colab": {
          "base_uri": "https://localhost:8080/"
        },
        "id": "60Vyv8I2cuWx",
        "outputId": "7f5b83fe-9b68-4be8-883f-6f94bf5e3a33"
      },
      "execution_count": null,
      "outputs": [
        {
          "output_type": "execute_result",
          "data": {
            "text/plain": [
              "15"
            ]
          },
          "metadata": {},
          "execution_count": 4
        }
      ]
    },
    {
      "cell_type": "code",
      "source": [
        "x*=10"
      ],
      "metadata": {
        "id": "LMnO3sQDcu_e"
      },
      "execution_count": null,
      "outputs": []
    },
    {
      "cell_type": "code",
      "source": [
        "x"
      ],
      "metadata": {
        "colab": {
          "base_uri": "https://localhost:8080/"
        },
        "id": "hjjP1wOdd-yM",
        "outputId": "4edb99ab-ec2c-4f67-eed8-6cec2e3643a8"
      },
      "execution_count": null,
      "outputs": [
        {
          "output_type": "execute_result",
          "data": {
            "text/plain": [
              "150"
            ]
          },
          "metadata": {},
          "execution_count": 6
        }
      ]
    },
    {
      "cell_type": "code",
      "source": [
        "x//=3"
      ],
      "metadata": {
        "id": "gEp1kLawd_Mv"
      },
      "execution_count": null,
      "outputs": []
    },
    {
      "cell_type": "code",
      "source": [
        "x"
      ],
      "metadata": {
        "colab": {
          "base_uri": "https://localhost:8080/"
        },
        "id": "RjPYN146eBoL",
        "outputId": "e54227d1-12de-46b3-f6fb-dae16db7af91"
      },
      "execution_count": null,
      "outputs": [
        {
          "output_type": "execute_result",
          "data": {
            "text/plain": [
              "50"
            ]
          },
          "metadata": {},
          "execution_count": 8
        }
      ]
    },
    {
      "cell_type": "code",
      "source": [
        "x-=40"
      ],
      "metadata": {
        "id": "Uqvh65akeCMY"
      },
      "execution_count": null,
      "outputs": []
    },
    {
      "cell_type": "code",
      "source": [
        "x"
      ],
      "metadata": {
        "colab": {
          "base_uri": "https://localhost:8080/"
        },
        "id": "QURsR5i1eGhm",
        "outputId": "729c6544-0999-46a6-eb75-7844d86a877f"
      },
      "execution_count": null,
      "outputs": [
        {
          "output_type": "execute_result",
          "data": {
            "text/plain": [
              "10"
            ]
          },
          "metadata": {},
          "execution_count": 10
        }
      ]
    },
    {
      "cell_type": "code",
      "source": [
        "x**=2"
      ],
      "metadata": {
        "id": "dggb40rCeHAx"
      },
      "execution_count": null,
      "outputs": []
    },
    {
      "cell_type": "code",
      "source": [
        "x"
      ],
      "metadata": {
        "colab": {
          "base_uri": "https://localhost:8080/"
        },
        "id": "e80t8JnMeK1_",
        "outputId": "2108102f-c0bf-408d-ed84-7fabbac36a2c"
      },
      "execution_count": null,
      "outputs": [
        {
          "output_type": "execute_result",
          "data": {
            "text/plain": [
              "100"
            ]
          },
          "metadata": {},
          "execution_count": 12
        }
      ]
    },
    {
      "cell_type": "code",
      "source": [
        "# Comparison operator\n",
        "\n",
        "a=10\n",
        "b=5\n"
      ],
      "metadata": {
        "id": "HLP_GgUHeLkt"
      },
      "execution_count": null,
      "outputs": []
    },
    {
      "cell_type": "code",
      "source": [
        "print(a==b)\n",
        "print(a!=b)\n",
        "print(a>b)\n",
        "print(a<b)\n",
        "print(a>=b)\n",
        "print(a<=b)"
      ],
      "metadata": {
        "colab": {
          "base_uri": "https://localhost:8080/"
        },
        "id": "p5Ca6j1xepV-",
        "outputId": "b3a90d9c-82d5-40ce-9ad7-b1aa08aca0ae"
      },
      "execution_count": null,
      "outputs": [
        {
          "output_type": "stream",
          "name": "stdout",
          "text": [
            "False\n",
            "True\n",
            "True\n",
            "False\n",
            "True\n",
            "False\n"
          ]
        }
      ]
    },
    {
      "cell_type": "code",
      "source": [
        "# Logical operator\n",
        "\n",
        "# AND\n",
        "\n",
        "x = 10\n",
        "y = 20\n",
        "\n",
        "result = x>5 and y>15\n",
        "print(result)"
      ],
      "metadata": {
        "colab": {
          "base_uri": "https://localhost:8080/"
        },
        "id": "U2xMt-RSgKz9",
        "outputId": "12eef069-b22d-47ef-a390-dba46293b174"
      },
      "execution_count": null,
      "outputs": [
        {
          "output_type": "stream",
          "name": "stdout",
          "text": [
            "True\n"
          ]
        }
      ]
    },
    {
      "cell_type": "code",
      "source": [
        "# OR\n",
        "\n",
        "x = 10\n",
        "y = 5\n",
        "\n",
        "result = x>15 or y>2\n",
        "print(result)"
      ],
      "metadata": {
        "colab": {
          "base_uri": "https://localhost:8080/"
        },
        "id": "gZM0dfCwgdQk",
        "outputId": "60625ddd-e1d6-47c8-e473-87c059116b17"
      },
      "execution_count": null,
      "outputs": [
        {
          "output_type": "stream",
          "name": "stdout",
          "text": [
            "True\n"
          ]
        }
      ]
    },
    {
      "cell_type": "code",
      "source": [
        "# NOT\n",
        "\n",
        "x = True\n",
        "print(not x)"
      ],
      "metadata": {
        "colab": {
          "base_uri": "https://localhost:8080/"
        },
        "id": "wRiC7RHVgpB9",
        "outputId": "36c05dd8-82fc-474b-f48e-e6dcbcc3d715"
      },
      "execution_count": null,
      "outputs": [
        {
          "output_type": "stream",
          "name": "stdout",
          "text": [
            "False\n"
          ]
        }
      ]
    },
    {
      "cell_type": "markdown",
      "source": [
        "# Sequential Data type: It stores the element in a specific order that can be accesses through indexing.\n",
        "\n",
        "1. List : It is collection of items that are ordered, mutable(it can be changed) and ir allows duplicates.  []\n",
        "\n",
        "2. Tuple : It is collection of items that are ordered, immutable(it cannot bt changed) and it also allows duplicates. ()"
      ],
      "metadata": {
        "id": "yZ6O42SckTzU"
      }
    },
    {
      "cell_type": "code",
      "source": [
        "# List\n",
        "\n",
        "grocery_list = [\"salt\",'sugar','rice','flour','soap','shampoo','apple','orange','chips']\n",
        "len(grocery_list)"
      ],
      "metadata": {
        "colab": {
          "base_uri": "https://localhost:8080/"
        },
        "id": "zeuJP3fWgvM8",
        "outputId": "97c20700-8fb1-4882-d8b5-83cd1dd09a3b"
      },
      "execution_count": null,
      "outputs": [
        {
          "output_type": "execute_result",
          "data": {
            "text/plain": [
              "9"
            ]
          },
          "metadata": {},
          "execution_count": 18
        }
      ]
    },
    {
      "cell_type": "code",
      "source": [
        "type(grocery_list)"
      ],
      "metadata": {
        "colab": {
          "base_uri": "https://localhost:8080/"
        },
        "id": "852sYgGWlZdx",
        "outputId": "bca0298c-e018-45c0-f0e6-5775a1b90593"
      },
      "execution_count": null,
      "outputs": [
        {
          "output_type": "execute_result",
          "data": {
            "text/plain": [
              "list"
            ]
          },
          "metadata": {},
          "execution_count": 19
        }
      ]
    },
    {
      "cell_type": "code",
      "source": [
        "grocery_list[1] = 'butter'\n",
        "print(grocery_list)"
      ],
      "metadata": {
        "colab": {
          "base_uri": "https://localhost:8080/"
        },
        "id": "VNvQ4nDMlhpQ",
        "outputId": "2ebce310-5168-427f-adda-cd2af326d412"
      },
      "execution_count": null,
      "outputs": [
        {
          "output_type": "stream",
          "name": "stdout",
          "text": [
            "['salt', 'butter', 'rice', 'flour', 'soap', 'shampoo', 'apple', 'orange', 'chips']\n"
          ]
        }
      ]
    },
    {
      "cell_type": "code",
      "source": [
        "grocery_list.append('sugar')\n",
        "print(grocery_list)"
      ],
      "metadata": {
        "colab": {
          "base_uri": "https://localhost:8080/"
        },
        "id": "NYmal7W6lqIM",
        "outputId": "f248087a-7136-4f10-f0b6-4ea514dcb7a9"
      },
      "execution_count": null,
      "outputs": [
        {
          "output_type": "stream",
          "name": "stdout",
          "text": [
            "['salt', 'butter', 'rice', 'flour', 'soap', 'shampoo', 'apple', 'orange', 'chips', 'sugar']\n"
          ]
        }
      ]
    },
    {
      "cell_type": "code",
      "source": [
        "grocery_list.remove('flour')\n",
        "print(grocery_list)"
      ],
      "metadata": {
        "colab": {
          "base_uri": "https://localhost:8080/"
        },
        "id": "a4coxDnZl1jA",
        "outputId": "b2b5d1d5-d94b-4223-9ac7-5c15d4d59148"
      },
      "execution_count": null,
      "outputs": [
        {
          "output_type": "stream",
          "name": "stdout",
          "text": [
            "['salt', 'butter', 'rice', 'soap', 'shampoo', 'apple', 'orange', 'chips', 'sugar']\n"
          ]
        }
      ]
    },
    {
      "cell_type": "code",
      "source": [
        "# Tuple\n",
        "\n",
        "fruits = ('apple','banana','cherry')\n",
        "numbers = (10,20,30,40,50)\n",
        "mixed = (1,'hello',3.5, True)"
      ],
      "metadata": {
        "id": "5iCaWRt0mEIn"
      },
      "execution_count": null,
      "outputs": []
    },
    {
      "cell_type": "code",
      "source": [
        "# access elements\n",
        "\n",
        "print(fruits[0])"
      ],
      "metadata": {
        "colab": {
          "base_uri": "https://localhost:8080/"
        },
        "id": "ITgwlGmHnUHe",
        "outputId": "0f6073dd-ad01-4f9a-c77f-5f82ec608cda"
      },
      "execution_count": null,
      "outputs": [
        {
          "output_type": "stream",
          "name": "stdout",
          "text": [
            "apple\n"
          ]
        }
      ]
    },
    {
      "cell_type": "code",
      "source": [
        "print(numbers[2])"
      ],
      "metadata": {
        "colab": {
          "base_uri": "https://localhost:8080/"
        },
        "id": "GNXyAkFEncQo",
        "outputId": "027497f8-0bd4-40fe-e247-6a9ba04bc97c"
      },
      "execution_count": null,
      "outputs": [
        {
          "output_type": "stream",
          "name": "stdout",
          "text": [
            "30\n"
          ]
        }
      ]
    },
    {
      "cell_type": "code",
      "source": [
        "fruits[1] = 'mango'"
      ],
      "metadata": {
        "colab": {
          "base_uri": "https://localhost:8080/",
          "height": 146
        },
        "id": "cLaWZtTjngNh",
        "outputId": "e7acf3c7-dca0-44ad-b441-13d243ebcebf"
      },
      "execution_count": null,
      "outputs": [
        {
          "output_type": "error",
          "ename": "TypeError",
          "evalue": "'tuple' object does not support item assignment",
          "traceback": [
            "\u001b[0;31m---------------------------------------------------------------------------\u001b[0m",
            "\u001b[0;31mTypeError\u001b[0m                                 Traceback (most recent call last)",
            "\u001b[0;32m/tmp/ipython-input-2588028836.py\u001b[0m in \u001b[0;36m<cell line: 0>\u001b[0;34m()\u001b[0m\n\u001b[0;32m----> 1\u001b[0;31m \u001b[0mfruits\u001b[0m\u001b[0;34m[\u001b[0m\u001b[0;36m1\u001b[0m\u001b[0;34m]\u001b[0m \u001b[0;34m=\u001b[0m \u001b[0;34m'mango'\u001b[0m\u001b[0;34m\u001b[0m\u001b[0;34m\u001b[0m\u001b[0m\n\u001b[0m",
            "\u001b[0;31mTypeError\u001b[0m: 'tuple' object does not support item assignment"
          ]
        }
      ]
    },
    {
      "cell_type": "markdown",
      "source": [
        "# Unsequential datatype: Do not maintain a fixed order meaning the elements cannot be accessed by using indexing.\n",
        "\n",
        "1. Set: It is unordered collection of unique items, we cannot have duplicates.\n",
        "\n",
        "2. Dictionary : It is collection of key value pairs.\n"
      ],
      "metadata": {
        "id": "XZlB3o3kn5Zs"
      }
    },
    {
      "cell_type": "code",
      "source": [
        "# set\n",
        "\n",
        "fruits = {'apple','banana','cherry'}\n",
        "print(fruits)"
      ],
      "metadata": {
        "colab": {
          "base_uri": "https://localhost:8080/"
        },
        "id": "UIjsEYXvnkYV",
        "outputId": "5b78561d-cbc2-4809-a57e-8717b02bf7c6"
      },
      "execution_count": null,
      "outputs": [
        {
          "output_type": "stream",
          "name": "stdout",
          "text": [
            "{'banana', 'apple', 'cherry'}\n"
          ]
        }
      ]
    },
    {
      "cell_type": "code",
      "source": [
        "fruits.add('orange')"
      ],
      "metadata": {
        "id": "33jhxK-boxlF"
      },
      "execution_count": null,
      "outputs": []
    },
    {
      "cell_type": "code",
      "source": [
        "print(fruits)"
      ],
      "metadata": {
        "colab": {
          "base_uri": "https://localhost:8080/"
        },
        "id": "Nhbws72mo-as",
        "outputId": "f7040cea-2fb6-45c9-e2c5-03bcebb3c2e9"
      },
      "execution_count": null,
      "outputs": [
        {
          "output_type": "stream",
          "name": "stdout",
          "text": [
            "{'banana', 'orange', 'apple', 'cherry'}\n"
          ]
        }
      ]
    },
    {
      "cell_type": "code",
      "source": [
        "fruits.remove('banana')\n",
        "print(fruits)"
      ],
      "metadata": {
        "colab": {
          "base_uri": "https://localhost:8080/"
        },
        "id": "LvxdMilFpATG",
        "outputId": "aa78f0cb-2aaf-440f-b3e9-d1d0279508ef"
      },
      "execution_count": null,
      "outputs": [
        {
          "output_type": "stream",
          "name": "stdout",
          "text": [
            "{'orange', 'apple', 'cherry'}\n"
          ]
        }
      ]
    },
    {
      "cell_type": "code",
      "source": [
        "numbers = {1,2,2,3,4,5,5}\n",
        "print(numbers)"
      ],
      "metadata": {
        "colab": {
          "base_uri": "https://localhost:8080/"
        },
        "id": "WKySvEbMpTKR",
        "outputId": "21ad6cdd-de5d-48f0-b78d-74354659d3c8"
      },
      "execution_count": null,
      "outputs": [
        {
          "output_type": "stream",
          "name": "stdout",
          "text": [
            "{1, 2, 3, 4, 5}\n"
          ]
        }
      ]
    },
    {
      "cell_type": "code",
      "source": [
        "num = {1,23,False,True,0}\n",
        "print(num)"
      ],
      "metadata": {
        "colab": {
          "base_uri": "https://localhost:8080/"
        },
        "id": "2w8MaDoqpdnD",
        "outputId": "3e19a1a0-193c-4ab2-d24e-8ad0b83430e7"
      },
      "execution_count": null,
      "outputs": [
        {
          "output_type": "stream",
          "name": "stdout",
          "text": [
            "{False, 1, 23}\n"
          ]
        }
      ]
    },
    {
      "cell_type": "code",
      "source": [
        "# Dictionary\n",
        "\n",
        "student ={\n",
        "    'name':'Devansh',\n",
        "    'age': 28,\n",
        "    'grade':'A'\n",
        "}\n",
        "print(student)"
      ],
      "metadata": {
        "colab": {
          "base_uri": "https://localhost:8080/"
        },
        "id": "gI9Vau5Lp6VT",
        "outputId": "844dfeb9-02de-4b71-e2eb-c21ab66dad44"
      },
      "execution_count": null,
      "outputs": [
        {
          "output_type": "stream",
          "name": "stdout",
          "text": [
            "{'name': 'Devansh', 'age': 28, 'grade': 'A'}\n"
          ]
        }
      ]
    },
    {
      "cell_type": "code",
      "source": [
        "print(student['name'])"
      ],
      "metadata": {
        "colab": {
          "base_uri": "https://localhost:8080/"
        },
        "id": "I-oXTiE9qYmf",
        "outputId": "2dce2ea4-ae4c-43ed-bf7e-93d765ac7423"
      },
      "execution_count": null,
      "outputs": [
        {
          "output_type": "stream",
          "name": "stdout",
          "text": [
            "Devansh\n"
          ]
        }
      ]
    },
    {
      "cell_type": "code",
      "source": [
        "print(student['age'])"
      ],
      "metadata": {
        "colab": {
          "base_uri": "https://localhost:8080/"
        },
        "id": "0i7wHPiUqiow",
        "outputId": "440991e4-3c15-4e83-c03f-702fca2a58f2"
      },
      "execution_count": null,
      "outputs": [
        {
          "output_type": "stream",
          "name": "stdout",
          "text": [
            "28\n"
          ]
        }
      ]
    },
    {
      "cell_type": "code",
      "source": [
        "student.pop('grade')"
      ],
      "metadata": {
        "colab": {
          "base_uri": "https://localhost:8080/",
          "height": 36
        },
        "id": "fRyEcmVsqqeF",
        "outputId": "6a912180-c7a7-4acb-d631-e5daaae2677e"
      },
      "execution_count": null,
      "outputs": [
        {
          "output_type": "execute_result",
          "data": {
            "text/plain": [
              "'A'"
            ],
            "application/vnd.google.colaboratory.intrinsic+json": {
              "type": "string"
            }
          },
          "metadata": {},
          "execution_count": 37
        }
      ]
    },
    {
      "cell_type": "code",
      "source": [
        "print(student)"
      ],
      "metadata": {
        "colab": {
          "base_uri": "https://localhost:8080/"
        },
        "id": "0nmgjd59qyYf",
        "outputId": "9de35ce4-cc9a-431b-a9a8-5083f212f3c4"
      },
      "execution_count": null,
      "outputs": [
        {
          "output_type": "stream",
          "name": "stdout",
          "text": [
            "{'name': 'Devansh', 'age': 28}\n"
          ]
        }
      ]
    },
    {
      "cell_type": "code",
      "source": [],
      "metadata": {
        "id": "D9O7Yewvqz23"
      },
      "execution_count": null,
      "outputs": []
    }
  ]
}
